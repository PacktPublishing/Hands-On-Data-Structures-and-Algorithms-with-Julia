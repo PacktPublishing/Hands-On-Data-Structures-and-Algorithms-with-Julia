{
 "cells": [
  {
   "cell_type": "markdown",
   "metadata": {},
   "source": [
    "# Hash tables, hash maps, and dictionaries"
   ]
  },
  {
   "cell_type": "code",
   "execution_count": 86,
   "metadata": {},
   "outputs": [
    {
     "name": "stdout",
     "output_type": "stream",
     "text": [
      "\u001b[32m\u001b[1mActivating\u001b[22m\u001b[39m environment at `~/Dropbox/Projects/Julia Data Structures/Chapter 5/support_files/Project.toml`\n"
     ]
    }
   ],
   "source": [
    "# Project setup\n",
    "using Pkg\n",
    "pkg\"activate .\""
   ]
  },
  {
   "cell_type": "markdown",
   "metadata": {},
   "source": [
    "## The hash function"
   ]
  },
  {
   "cell_type": "code",
   "execution_count": 1,
   "metadata": {},
   "outputs": [
    {
     "data": {
      "text/plain": [
       "simplehash (generic function with 1 method)"
      ]
     },
     "execution_count": 1,
     "metadata": {},
     "output_type": "execute_result"
    }
   ],
   "source": [
    "function simplehash(val) \n",
    "  sum(Int.([c for c::Char in string(val)])) \n",
    "end "
   ]
  },
  {
   "cell_type": "code",
   "execution_count": 2,
   "metadata": {},
   "outputs": [
    {
     "data": {
      "text/plain": [
       "591"
      ]
     },
     "execution_count": 2,
     "metadata": {},
     "output_type": "execute_result"
    }
   ],
   "source": [
    "simplehash(\"Adrian\")"
   ]
  },
  {
   "cell_type": "code",
   "execution_count": 3,
   "metadata": {},
   "outputs": [
    {
     "data": {
      "text/plain": [
       "399"
      ]
     },
     "execution_count": 3,
     "metadata": {},
     "output_type": "execute_result"
    }
   ],
   "source": [
    "simplehash(:John)"
   ]
  },
  {
   "cell_type": "code",
   "execution_count": 4,
   "metadata": {},
   "outputs": [
    {
     "data": {
      "text/plain": [
       "813"
      ]
     },
     "execution_count": 4,
     "metadata": {},
     "output_type": "execute_result"
    }
   ],
   "source": [
    "simplehash(\"Caroline\")"
   ]
  },
  {
   "cell_type": "code",
   "execution_count": 5,
   "metadata": {},
   "outputs": [
    {
     "data": {
      "text/plain": [
       "813"
      ]
     },
     "execution_count": 5,
     "metadata": {},
     "output_type": "execute_result"
    }
   ],
   "source": [
    "simplehash(\"Cornelia\")"
   ]
  },
  {
   "cell_type": "markdown",
   "metadata": {},
   "source": [
    "### Rehashing"
   ]
  },
  {
   "cell_type": "code",
   "execution_count": 6,
   "metadata": {},
   "outputs": [
    {
     "data": {
      "text/plain": [
       "156"
      ]
     },
     "execution_count": 6,
     "metadata": {},
     "output_type": "execute_result"
    }
   ],
   "source": [
    "simplehash(simplehash(\"Cornelia\"))"
   ]
  },
  {
   "cell_type": "markdown",
   "metadata": {},
   "source": [
    "## Dict constructors"
   ]
  },
  {
   "cell_type": "code",
   "execution_count": 7,
   "metadata": {},
   "outputs": [
    {
     "data": {
      "text/plain": [
       "Dict{Symbol,String} with 2 entries:\n",
       "  :a => \"A\"\n",
       "  :b => \"B\""
      ]
     },
     "execution_count": 7,
     "metadata": {},
     "output_type": "execute_result"
    }
   ],
   "source": [
    "Dict(:a => \"A\", :b => \"B\")"
   ]
  },
  {
   "cell_type": "code",
   "execution_count": 8,
   "metadata": {},
   "outputs": [
    {
     "data": {
      "text/plain": [
       "Pair{Symbol,String}"
      ]
     },
     "execution_count": 8,
     "metadata": {},
     "output_type": "execute_result"
    }
   ],
   "source": [
    "(:a => \"A\") |> typeof"
   ]
  },
  {
   "cell_type": "code",
   "execution_count": 9,
   "metadata": {},
   "outputs": [
    {
     "data": {
      "text/plain": [
       "Dict{Any,Any} with 2 entries:\n",
       "  :a => \"A\"\n",
       "  :b => \"B\""
      ]
     },
     "execution_count": 9,
     "metadata": {},
     "output_type": "execute_result"
    }
   ],
   "source": [
    "Dict{Any,Any}(:a => \"A\", :b => \"B\")"
   ]
  },
  {
   "cell_type": "code",
   "execution_count": 10,
   "metadata": {},
   "outputs": [
    {
     "data": {
      "text/plain": [
       "Dict{Any,Any} with 0 entries"
      ]
     },
     "execution_count": 10,
     "metadata": {},
     "output_type": "execute_result"
    }
   ],
   "source": [
    "Dict()"
   ]
  },
  {
   "cell_type": "code",
   "execution_count": 11,
   "metadata": {},
   "outputs": [
    {
     "data": {
      "text/plain": [
       "Dict{String,Float64} with 0 entries"
      ]
     },
     "execution_count": 11,
     "metadata": {},
     "output_type": "execute_result"
    }
   ],
   "source": [
    "Dict{String,Float64}()"
   ]
  },
  {
   "cell_type": "code",
   "execution_count": 12,
   "metadata": {},
   "outputs": [
    {
     "data": {
      "text/plain": [
       "Dict{String,Float64} with 3 entries:\n",
       "  \"notebook\" => 2.35\n",
       "  \"pencil\"   => 0.99\n",
       "  \"rubber\"   => 0.35"
      ]
     },
     "execution_count": 12,
     "metadata": {},
     "output_type": "execute_result"
    }
   ],
   "source": [
    "Dict([(\"notebook\", 2.35), (\"pencil\", 0.99), (\"rubber\", 0.35)])"
   ]
  },
  {
   "cell_type": "code",
   "execution_count": 13,
   "metadata": {},
   "outputs": [
    {
     "data": {
      "text/plain": [
       "Dict{Symbol,String} with 4 entries:\n",
       "  :a => \"a\"\n",
       "  :b => \"bbbbb\"\n",
       "  :d => \"ddd\"\n",
       "  :c => \"cc\""
      ]
     },
     "execution_count": 13,
     "metadata": {},
     "output_type": "execute_result"
    }
   ],
   "source": [
    "Dict(x => repeat(string(x), rand(1:5)) for x in [:a, :b, :c, :d])"
   ]
  },
  {
   "cell_type": "markdown",
   "metadata": {},
   "source": [
    "## Getting and setting values"
   ]
  },
  {
   "cell_type": "code",
   "execution_count": 14,
   "metadata": {},
   "outputs": [
    {
     "data": {
      "text/plain": [
       "Dict{String,Float64} with 3 entries:\n",
       "  \"Liam\"  => 112.0\n",
       "  \"Sarah\" => 418.5\n",
       "  \"Fred\"  => 485.12"
      ]
     },
     "execution_count": 14,
     "metadata": {},
     "output_type": "execute_result"
    }
   ],
   "source": [
    "bonuses = Dict(\"Fred\" => 485.12, \"Liam\" => 112.0, \"Sarah\" => 418.5)"
   ]
  },
  {
   "cell_type": "code",
   "execution_count": 15,
   "metadata": {},
   "outputs": [
    {
     "data": {
      "text/plain": [
       "1291"
      ]
     },
     "execution_count": 15,
     "metadata": {},
     "output_type": "execute_result"
    }
   ],
   "source": [
    "bonuses[\"Judy\"] = 1_291"
   ]
  },
  {
   "cell_type": "code",
   "execution_count": 16,
   "metadata": {},
   "outputs": [
    {
     "data": {
      "text/plain": [
       "Dict{String,Float64} with 4 entries:\n",
       "  \"Liam\"  => 112.0\n",
       "  \"Sarah\" => 418.5\n",
       "  \"Fred\"  => 485.12\n",
       "  \"Judy\"  => 1291.0"
      ]
     },
     "execution_count": 16,
     "metadata": {},
     "output_type": "execute_result"
    }
   ],
   "source": [
    "bonuses"
   ]
  },
  {
   "cell_type": "code",
   "execution_count": 17,
   "metadata": {},
   "outputs": [
    {
     "ename": "MethodError",
     "evalue": "MethodError: Cannot `convert` an object of type String to an object of type Float64\nClosest candidates are:\n  convert(::Type{T<:Number}, !Matched::T<:Number) where T<:Number at number.jl:6\n  convert(::Type{T<:Number}, !Matched::Number) where T<:Number at number.jl:7\n  convert(::Type{T<:Number}, !Matched::Base.TwicePrecision) where T<:Number at twiceprecision.jl:250\n  ...",
     "output_type": "error",
     "traceback": [
      "MethodError: Cannot `convert` an object of type String to an object of type Float64\nClosest candidates are:\n  convert(::Type{T<:Number}, !Matched::T<:Number) where T<:Number at number.jl:6\n  convert(::Type{T<:Number}, !Matched::Number) where T<:Number at number.jl:7\n  convert(::Type{T<:Number}, !Matched::Base.TwicePrecision) where T<:Number at twiceprecision.jl:250\n  ...",
      "",
      "Stacktrace:",
      " [1] setindex!(::Dict{String,Float64}, ::String, ::String) at ./dict.jl:380",
      " [2] top-level scope at In[17]:1"
     ]
    }
   ],
   "source": [
    "bonuses[\"Judy\"] = \"1_291\""
   ]
  },
  {
   "cell_type": "code",
   "execution_count": 18,
   "metadata": {},
   "outputs": [
    {
     "data": {
      "text/plain": [
       "1300"
      ]
     },
     "execution_count": 18,
     "metadata": {},
     "output_type": "execute_result"
    }
   ],
   "source": [
    "bonuses[\"Judy\"] = 1_300"
   ]
  },
  {
   "cell_type": "code",
   "execution_count": 19,
   "metadata": {},
   "outputs": [
    {
     "ename": "KeyError",
     "evalue": "KeyError: key \"Sam\" not found",
     "output_type": "error",
     "traceback": [
      "KeyError: key \"Sam\" not found",
      "",
      "Stacktrace:",
      " [1] getindex(::Dict{String,Float64}, ::String) at ./dict.jl:477",
      " [2] top-level scope at In[19]:1"
     ]
    }
   ],
   "source": [
    "bonuses[\"Sam\"]"
   ]
  },
  {
   "cell_type": "code",
   "execution_count": 20,
   "metadata": {},
   "outputs": [
    {
     "data": {
      "text/plain": [
       "false"
      ]
     },
     "execution_count": 20,
     "metadata": {},
     "output_type": "execute_result"
    }
   ],
   "source": [
    "haskey(bonuses, \"Sam\")"
   ]
  },
  {
   "cell_type": "code",
   "execution_count": 21,
   "metadata": {},
   "outputs": [
    {
     "data": {
      "text/plain": [
       "true"
      ]
     },
     "execution_count": 21,
     "metadata": {},
     "output_type": "execute_result"
    }
   ],
   "source": [
    "haskey(bonuses, \"Fred\")"
   ]
  },
  {
   "cell_type": "code",
   "execution_count": 22,
   "metadata": {},
   "outputs": [
    {
     "data": {
      "text/plain": [
       "0"
      ]
     },
     "execution_count": 22,
     "metadata": {},
     "output_type": "execute_result"
    }
   ],
   "source": [
    "bonuses[\"NO_BONUS\"] = 0"
   ]
  },
  {
   "cell_type": "code",
   "execution_count": 23,
   "metadata": {},
   "outputs": [
    {
     "data": {
      "text/plain": [
       "0.0"
      ]
     },
     "execution_count": 23,
     "metadata": {},
     "output_type": "execute_result"
    }
   ],
   "source": [
    "sam_bonus = bonuses[getkey(bonuses, \"Sam\", \"NO_BONUS\")]"
   ]
  },
  {
   "cell_type": "code",
   "execution_count": 24,
   "metadata": {},
   "outputs": [
    {
     "data": {
      "text/plain": [
       "485.12"
      ]
     },
     "execution_count": 24,
     "metadata": {},
     "output_type": "execute_result"
    }
   ],
   "source": [
    "fred_bonus = bonuses[getkey(bonuses, \"Fred\", \"NO_BONUS\")]"
   ]
  },
  {
   "cell_type": "code",
   "execution_count": 25,
   "metadata": {},
   "outputs": [
    {
     "data": {
      "text/plain": [
       "418.5"
      ]
     },
     "execution_count": 25,
     "metadata": {},
     "output_type": "execute_result"
    }
   ],
   "source": [
    "sarah_bonus = get(bonuses, \"Sarah\", 0)"
   ]
  },
  {
   "cell_type": "code",
   "execution_count": 26,
   "metadata": {},
   "outputs": [
    {
     "data": {
      "text/plain": [
       "0"
      ]
     },
     "execution_count": 26,
     "metadata": {},
     "output_type": "execute_result"
    }
   ],
   "source": [
    "get(bonuses, \"Sam\", 0)"
   ]
  },
  {
   "cell_type": "code",
   "execution_count": 27,
   "metadata": {},
   "outputs": [
    {
     "ename": "KeyError",
     "evalue": "KeyError: key \"Sergy\" not found",
     "output_type": "error",
     "traceback": [
      "KeyError: key \"Sergy\" not found",
      "",
      "Stacktrace:",
      " [1] getindex(::Dict{String,Float64}, ::String) at ./dict.jl:477",
      " [2] top-level scope at In[27]:1"
     ]
    }
   ],
   "source": [
    "bonuses[\"Sergy\"]"
   ]
  },
  {
   "cell_type": "code",
   "execution_count": 28,
   "metadata": {},
   "outputs": [
    {
     "data": {
      "text/plain": [
       "0.0"
      ]
     },
     "execution_count": 28,
     "metadata": {},
     "output_type": "execute_result"
    }
   ],
   "source": [
    "get!(bonuses, \"Sergy\", 0)"
   ]
  },
  {
   "cell_type": "code",
   "execution_count": 29,
   "metadata": {},
   "outputs": [
    {
     "data": {
      "text/plain": [
       "0.0"
      ]
     },
     "execution_count": 29,
     "metadata": {},
     "output_type": "execute_result"
    }
   ],
   "source": [
    "bonuses[\"Sergy\"]"
   ]
  },
  {
   "cell_type": "code",
   "execution_count": 30,
   "metadata": {},
   "outputs": [
    {
     "data": {
      "text/plain": [
       "\"SAM IS NOT UP FOR BONUS THIS YEAR\""
      ]
     },
     "execution_count": 30,
     "metadata": {},
     "output_type": "execute_result"
    }
   ],
   "source": [
    "get(bonuses, \"Sam\") do \n",
    "    uppercase(\"Sam is not up for bonus this year\") \n",
    "end"
   ]
  },
  {
   "cell_type": "markdown",
   "metadata": {},
   "source": [
    "## Deleting elements"
   ]
  },
  {
   "cell_type": "code",
   "execution_count": 31,
   "metadata": {},
   "outputs": [
    {
     "data": {
      "text/plain": [
       "Dict{String,Float64} with 5 entries:\n",
       "  \"Liam\"     => 112.0\n",
       "  \"Sarah\"    => 418.5\n",
       "  \"Fred\"     => 485.12\n",
       "  \"Judy\"     => 1300.0\n",
       "  \"NO_BONUS\" => 0.0"
      ]
     },
     "execution_count": 31,
     "metadata": {},
     "output_type": "execute_result"
    }
   ],
   "source": [
    "delete!(bonuses, \"Sergy\")"
   ]
  },
  {
   "cell_type": "code",
   "execution_count": 32,
   "metadata": {},
   "outputs": [
    {
     "data": {
      "text/plain": [
       "112.0"
      ]
     },
     "execution_count": 32,
     "metadata": {},
     "output_type": "execute_result"
    }
   ],
   "source": [
    "pop!(bonuses, \"Liam\")"
   ]
  },
  {
   "cell_type": "code",
   "execution_count": 33,
   "metadata": {},
   "outputs": [
    {
     "ename": "KeyError",
     "evalue": "KeyError: key \"Liam\" not found",
     "output_type": "error",
     "traceback": [
      "KeyError: key \"Liam\" not found",
      "",
      "Stacktrace:",
      " [1] pop!(::Dict{String,Float64}, ::String) at ./dict.jl:580",
      " [2] top-level scope at In[33]:1"
     ]
    }
   ],
   "source": [
    "pop!(bonuses, \"Liam\")"
   ]
  },
  {
   "cell_type": "code",
   "execution_count": 34,
   "metadata": {},
   "outputs": [
    {
     "data": {
      "text/plain": [
       "0"
      ]
     },
     "execution_count": 34,
     "metadata": {},
     "output_type": "execute_result"
    }
   ],
   "source": [
    "pop!(bonuses, \"Liam\", 0)"
   ]
  },
  {
   "cell_type": "markdown",
   "metadata": {},
   "source": [
    "## Iterating over dictionaries"
   ]
  },
  {
   "cell_type": "code",
   "execution_count": 35,
   "metadata": {},
   "outputs": [
    {
     "name": "stdout",
     "output_type": "stream",
     "text": [
      "\"Sarah\" => 418.5\n",
      "\"Fred\" => 485.12\n",
      "\"Judy\" => 1300.0\n",
      "\"NO_BONUS\" => 0.0\n"
     ]
    }
   ],
   "source": [
    "for bonus in bonuses \n",
    "    println(bonus) \n",
    "end"
   ]
  },
  {
   "cell_type": "code",
   "execution_count": 36,
   "metadata": {},
   "outputs": [
    {
     "name": "stdout",
     "output_type": "stream",
     "text": [
      "The bonus for Sarah is 418.5\n",
      "The bonus for Fred is 485.12\n",
      "The bonus for Judy is 1300.0\n",
      "The bonus for NO_BONUS is 0.0\n"
     ]
    }
   ],
   "source": [
    "for (name, bonus) in bonuses \n",
    "    println(\"The bonus for $name is $bonus\") \n",
    "end"
   ]
  },
  {
   "cell_type": "code",
   "execution_count": 37,
   "metadata": {},
   "outputs": [
    {
     "data": {
      "text/plain": [
       "Base.KeySet for a Dict{String,Float64} with 4 entries. Keys:\n",
       "  \"Sarah\"\n",
       "  \"Fred\"\n",
       "  \"Judy\"\n",
       "  \"NO_BONUS\""
      ]
     },
     "execution_count": 37,
     "metadata": {},
     "output_type": "execute_result"
    }
   ],
   "source": [
    "keys(bonuses)"
   ]
  },
  {
   "cell_type": "code",
   "execution_count": 38,
   "metadata": {},
   "outputs": [
    {
     "data": {
      "text/plain": [
       "Base.ValueIterator for a Dict{String,Float64} with 4 entries. Values:\n",
       "  418.5\n",
       "  485.12\n",
       "  1300.0\n",
       "  0.0"
      ]
     },
     "execution_count": 38,
     "metadata": {},
     "output_type": "execute_result"
    }
   ],
   "source": [
    "values(bonuses)"
   ]
  },
  {
   "cell_type": "code",
   "execution_count": 39,
   "metadata": {},
   "outputs": [
    {
     "data": {
      "text/plain": [
       "true"
      ]
     },
     "execution_count": 39,
     "metadata": {},
     "output_type": "execute_result"
    }
   ],
   "source": [
    "Symbol <: Any && Int <: Number"
   ]
  },
  {
   "cell_type": "code",
   "execution_count": 40,
   "metadata": {},
   "outputs": [
    {
     "data": {
      "text/plain": [
       "userage (generic function with 1 method)"
      ]
     },
     "execution_count": 40,
     "metadata": {},
     "output_type": "execute_result"
    }
   ],
   "source": [
    "function userage(x::Any, y::Number) \n",
    "    x, y \n",
    "end"
   ]
  },
  {
   "cell_type": "code",
   "execution_count": 41,
   "metadata": {},
   "outputs": [
    {
     "data": {
      "text/plain": [
       "(:age, 20)"
      ]
     },
     "execution_count": 41,
     "metadata": {},
     "output_type": "execute_result"
    }
   ],
   "source": [
    "userage(:age, 20)"
   ]
  },
  {
   "cell_type": "code",
   "execution_count": 42,
   "metadata": {},
   "outputs": [
    {
     "data": {
      "text/plain": [
       "userage (generic function with 2 methods)"
      ]
     },
     "execution_count": 42,
     "metadata": {},
     "output_type": "execute_result"
    }
   ],
   "source": [
    "function userage(d::Dict{Any,Number}) \n",
    "    first(d)[1], first(d)[2] \n",
    "end"
   ]
  },
  {
   "cell_type": "code",
   "execution_count": 43,
   "metadata": {},
   "outputs": [
    {
     "ename": "MethodError",
     "evalue": "MethodError: no method matching userage(::Dict{Symbol,Int64})\nClosest candidates are:\n  userage(::Any, !Matched::Number) at In[40]:2\n  userage(!Matched::Dict{Any,Number}) at In[42]:2",
     "output_type": "error",
     "traceback": [
      "MethodError: no method matching userage(::Dict{Symbol,Int64})\nClosest candidates are:\n  userage(::Any, !Matched::Number) at In[40]:2\n  userage(!Matched::Dict{Any,Number}) at In[42]:2",
      "",
      "Stacktrace:",
      " [1] top-level scope at In[43]:1"
     ]
    }
   ],
   "source": [
    "userage(Dict(:age => 20))"
   ]
  },
  {
   "cell_type": "code",
   "execution_count": 44,
   "metadata": {},
   "outputs": [
    {
     "data": {
      "text/plain": [
       "(:age, 20)"
      ]
     },
     "execution_count": 44,
     "metadata": {},
     "output_type": "execute_result"
    }
   ],
   "source": [
    "userage(Dict{Any,Number}(:age => 20))"
   ]
  },
  {
   "cell_type": "markdown",
   "metadata": {},
   "source": [
    "## Building a custom HashMap implementation"
   ]
  },
  {
   "cell_type": "markdown",
   "metadata": {},
   "source": [
    "### Constructors"
   ]
  },
  {
   "cell_type": "code",
   "execution_count": 45,
   "metadata": {},
   "outputs": [],
   "source": [
    "mutable struct HashMap{K,V} \n",
    "  storage::Vector{Vector{Pair{K,V}}} \n",
    "end"
   ]
  },
  {
   "cell_type": "code",
   "execution_count": 46,
   "metadata": {},
   "outputs": [],
   "source": [
    "function HashMap{K,V}() where {K,V} \n",
    "  Pair{K,V}[] |> HashMap{K,V} \n",
    "end"
   ]
  },
  {
   "cell_type": "code",
   "execution_count": 47,
   "metadata": {},
   "outputs": [
    {
     "data": {
      "text/plain": [
       "HashMap{Symbol,String}(Array{Pair{Symbol,String},1}[])"
      ]
     },
     "execution_count": 47,
     "metadata": {},
     "output_type": "execute_result"
    }
   ],
   "source": [
    "HashMap{Symbol,String}()"
   ]
  },
  {
   "cell_type": "code",
   "execution_count": 48,
   "metadata": {},
   "outputs": [
    {
     "data": {
      "text/plain": [
       "HashMap"
      ]
     },
     "execution_count": 48,
     "metadata": {},
     "output_type": "execute_result"
    }
   ],
   "source": [
    "function HashMap() \n",
    "  HashMap{Any,Any}() \n",
    "end"
   ]
  },
  {
   "cell_type": "code",
   "execution_count": 49,
   "metadata": {},
   "outputs": [
    {
     "data": {
      "text/plain": [
       "HashMap{Any,Any}(Array{Pair{Any,Any},1}[])"
      ]
     },
     "execution_count": 49,
     "metadata": {},
     "output_type": "execute_result"
    }
   ],
   "source": [
    "HashMap()"
   ]
  },
  {
   "cell_type": "markdown",
   "metadata": {},
   "source": [
    "### Adding the introspection API"
   ]
  },
  {
   "cell_type": "code",
   "execution_count": 52,
   "metadata": {},
   "outputs": [],
   "source": [
    "function Base.size(hm::HashMap) :: Tuple{Int} \n",
    "  size(hm.storage) \n",
    "end"
   ]
  },
  {
   "cell_type": "code",
   "execution_count": 53,
   "metadata": {},
   "outputs": [],
   "source": [
    "function Base.length(hm::HashMap) :: Int \n",
    "  length(hm.storage) \n",
    "end"
   ]
  },
  {
   "cell_type": "code",
   "execution_count": 54,
   "metadata": {},
   "outputs": [],
   "source": [
    "function Base.pairs(hm::HashMap) \n",
    "  (p for b in hm.storage for p in b) \n",
    "end"
   ]
  },
  {
   "cell_type": "code",
   "execution_count": 55,
   "metadata": {},
   "outputs": [],
   "source": [
    "function Base.keys(hm::HashMap) \n",
    "  (p[1] for p in pairs(hm)) \n",
    "end"
   ]
  },
  {
   "cell_type": "code",
   "execution_count": 56,
   "metadata": {},
   "outputs": [],
   "source": [
    "function Base.values(hm::HashMap) \n",
    "  (p[2] for p in pairs(hm)) \n",
    "end"
   ]
  },
  {
   "cell_type": "markdown",
   "metadata": {},
   "source": [
    "#### Keys related utilities"
   ]
  },
  {
   "cell_type": "code",
   "execution_count": 57,
   "metadata": {},
   "outputs": [],
   "source": [
    "function Base.haskey(hm::HashMap{K}, key::K)::Bool where {K} \n",
    "  key in keys(hm) \n",
    "end"
   ]
  },
  {
   "cell_type": "code",
   "execution_count": 58,
   "metadata": {},
   "outputs": [],
   "source": [
    "function Base.getkey(hm::HashMap{K}, key::K, default::K)::K where {K} \n",
    "  haskey(hm, key) ? key : default \n",
    "end "
   ]
  },
  {
   "cell_type": "markdown",
   "metadata": {},
   "source": [
    "### Setting values"
   ]
  },
  {
   "cell_type": "code",
   "execution_count": 59,
   "metadata": {},
   "outputs": [
    {
     "data": {
      "text/plain": [
       "index (generic function with 1 method)"
      ]
     },
     "execution_count": 59,
     "metadata": {},
     "output_type": "execute_result"
    }
   ],
   "source": [
    "function index(hm::HashMap{K}, key::K)::Int where {K} \n",
    "  length(hm) == 0 && return 1 \n",
    "  (hash(key) % length(hm)) + 1 \n",
    "end"
   ]
  },
  {
   "cell_type": "code",
   "execution_count": 60,
   "metadata": {},
   "outputs": [
    {
     "data": {
      "text/plain": [
       "loadfactor (generic function with 1 method)"
      ]
     },
     "execution_count": 60,
     "metadata": {},
     "output_type": "execute_result"
    }
   ],
   "source": [
    "function loadfactor(hm::HashMap) :: Float64 \n",
    "  length(collect(keys(hm))) / length(hm) \n",
    "end"
   ]
  },
  {
   "cell_type": "code",
   "execution_count": 61,
   "metadata": {},
   "outputs": [
    {
     "data": {
      "text/plain": [
       "rehash! (generic function with 1 method)"
      ]
     },
     "execution_count": 61,
     "metadata": {},
     "output_type": "execute_result"
    }
   ],
   "source": [
    "const SHRINK_FACTOR = 0.5 \n",
    "const EXPAND_FACTOR = 1.5 \n",
    " \n",
    "function rehash!(hm::HashMap{K,V})::HashMap{K,V} where {K,V} \n",
    "  lf = loadfactor(hm) \n",
    "       \n",
    "  if isnan(lf)  \n",
    "    push!(hm.storage, Pair{K,V}[]) # when length of storage array is 0 \n",
    "    return hm \n",
    "  end \n",
    "     \n",
    "  factor = if lf > EXPAND_FACTOR \n",
    "    ceil(Int, length(hm) * 2) \n",
    "  elseif lf < SHRINK_FACTOR \n",
    "    ceil(Int, length(hm) / 2) \n",
    "  else \n",
    "    return hm \n",
    "  end \n",
    "             \n",
    "  data = copy(hm.storage) \n",
    "  hm.storage = typeof(hm.storage)() \n",
    "                \n",
    "  for i in 1:factor \n",
    "    push!(hm.storage, Pair{K,V}[]) \n",
    "  end \n",
    " \n",
    "  for i in eachindex(data) \n",
    "    for (k,v) in data[i] \n",
    "      pushvalue(hm, k, v) \n",
    "    end \n",
    "  end \n",
    "             \n",
    "  hm \n",
    "end"
   ]
  },
  {
   "cell_type": "code",
   "execution_count": 62,
   "metadata": {},
   "outputs": [
    {
     "data": {
      "text/plain": [
       "pushvalue (generic function with 1 method)"
      ]
     },
     "execution_count": 62,
     "metadata": {},
     "output_type": "execute_result"
    }
   ],
   "source": [
    "function pushvalue(hm::HashMap{K}, key::K, val::V)::V where {K,V} \n",
    "  bucket = hm.storage[index(hm, key)] \n",
    " \n",
    "  for i in 1:length(bucket) \n",
    "    if bucket[i][1] == key \n",
    "      bucket[i] = Pair{K,V}(key, val) \n",
    "      return val \n",
    "    end \n",
    "  end \n",
    " \n",
    "  push!(bucket, Pair{K,V}(key, val)) \n",
    "     \n",
    "  val \n",
    "end"
   ]
  },
  {
   "cell_type": "code",
   "execution_count": 63,
   "metadata": {},
   "outputs": [],
   "source": [
    "function Base.setindex!(hm::HashMap{K,V}, val::V, key::K)::V where {K,V} \n",
    "  length(hm) == 0 && rehash!(hm) \n",
    "     \n",
    "  val = pushvalue(hm, key, val) \n",
    "     \n",
    "  rehash!(hm) \n",
    " \n",
    "  val \n",
    "end"
   ]
  },
  {
   "cell_type": "markdown",
   "metadata": {},
   "source": [
    "### Getting values"
   ]
  },
  {
   "cell_type": "code",
   "execution_count": 64,
   "metadata": {},
   "outputs": [],
   "source": [
    "function Base.getindex(hm::HashMap{K,V}, key::K)::V where {K,V} \n",
    "  bucket = hm.storage[index(hm, key)] \n",
    " \n",
    "  for i in 1:length(bucket) \n",
    "    if bucket[i][1] == key \n",
    "      return bucket[i][2] \n",
    "    end \n",
    "  end \n",
    "     \n",
    "  throw(KeyError(key)) \n",
    "end"
   ]
  },
  {
   "cell_type": "code",
   "execution_count": 65,
   "metadata": {},
   "outputs": [],
   "source": [
    "function Base.get(hm::HashMap{K,V}, key::K, default::V)::V where {K,V} \n",
    "  haskey(hm, key) ? hm[key] : default \n",
    "end "
   ]
  },
  {
   "cell_type": "code",
   "execution_count": 66,
   "metadata": {},
   "outputs": [],
   "source": [
    "function Base.get!(hm::HashMap{K,V}, key::K, default::V)::V where {K,V} \n",
    "  haskey(hm, key) && return hm[key] \n",
    " \n",
    "  hm[key] = default \n",
    "end "
   ]
  },
  {
   "cell_type": "markdown",
   "metadata": {},
   "source": [
    "### Deleting elements"
   ]
  },
  {
   "cell_type": "code",
   "execution_count": 67,
   "metadata": {},
   "outputs": [],
   "source": [
    "function Base.delete!(hm::HashMap{K}, key::K)::HashMap{K} where {K} \n",
    "  bucket = hm.storage[index(hm, key)] \n",
    " \n",
    "  for i in 1:length(bucket) \n",
    "    if bucket[i][1] == key \n",
    "      deleteat!(bucket, i) \n",
    "      rehash!(hm) \n",
    "             \n",
    "      return hm \n",
    "    end \n",
    "  end \n",
    " \n",
    "  return hm \n",
    "end"
   ]
  },
  {
   "cell_type": "code",
   "execution_count": 68,
   "metadata": {},
   "outputs": [],
   "source": [
    "function Base.pop!(hm::HashMap{K,V}, key::K, default::Union{V,Nothing} = nothing)::V where {K,V} \n",
    "  if ! haskey(hm, key) \n",
    "    default !== nothing && return default \n",
    "    throw(KeyError(key)) \n",
    "  end \n",
    " \n",
    "  val = hm[key] \n",
    "  delete!(hm, key) \n",
    " \n",
    "  val \n",
    "end"
   ]
  },
  {
   "cell_type": "code",
   "execution_count": 69,
   "metadata": {},
   "outputs": [],
   "source": [
    "function Base.empty!(hm::HashMap) :: HashMap \n",
    "  empty!(hm.storage) \n",
    "     \n",
    "  hm \n",
    "end"
   ]
  },
  {
   "cell_type": "markdown",
   "metadata": {},
   "source": [
    "### HashMap iteration"
   ]
  },
  {
   "cell_type": "code",
   "execution_count": 70,
   "metadata": {},
   "outputs": [],
   "source": [
    "function Base.iterate(hm::HashMap{K,V}, state::Union{K,Nothing} = first(keys(hm))) where {K,V} \n",
    "  ks = keys(hm) \n",
    " \n",
    "  idx = findfirst(x -> x == state, ks) \n",
    "  idx === nothing && return nothing \n",
    " \n",
    "  return length(ks) >= idx+1 ? (hm, ks[idx+1]) : nothing \n",
    "end"
   ]
  },
  {
   "cell_type": "markdown",
   "metadata": {},
   "source": [
    "### Trying it out"
   ]
  },
  {
   "cell_type": "code",
   "execution_count": 71,
   "metadata": {},
   "outputs": [
    {
     "data": {
      "text/plain": [
       "HashMap{String,Float64}(Array{Pair{String,Float64},1}[])"
      ]
     },
     "execution_count": 71,
     "metadata": {},
     "output_type": "execute_result"
    }
   ],
   "source": [
    "salaries = HashMap{String,Float64}()"
   ]
  },
  {
   "cell_type": "code",
   "execution_count": 72,
   "metadata": {},
   "outputs": [
    {
     "data": {
      "text/plain": [
       "42814.5"
      ]
     },
     "execution_count": 72,
     "metadata": {},
     "output_type": "execute_result"
    }
   ],
   "source": [
    "salaries[\"Bob\"] = 42_814.5"
   ]
  },
  {
   "cell_type": "code",
   "execution_count": 73,
   "metadata": {},
   "outputs": [
    {
     "data": {
      "text/plain": [
       "76012.99"
      ]
     },
     "execution_count": 73,
     "metadata": {},
     "output_type": "execute_result"
    }
   ],
   "source": [
    "salaries[\"Tom\"] = 76_012.99"
   ]
  },
  {
   "cell_type": "code",
   "execution_count": 74,
   "metadata": {},
   "outputs": [
    {
     "data": {
      "text/plain": [
       "2-element Array{Pair{String,Float64},1}:\n",
       " \"Tom\" => 76012.99\n",
       " \"Bob\" => 42814.5 "
      ]
     },
     "execution_count": 74,
     "metadata": {},
     "output_type": "execute_result"
    }
   ],
   "source": [
    "pairs(salaries) |> collect"
   ]
  },
  {
   "cell_type": "code",
   "execution_count": 75,
   "metadata": {},
   "outputs": [
    {
     "data": {
      "text/plain": [
       "true"
      ]
     },
     "execution_count": 75,
     "metadata": {},
     "output_type": "execute_result"
    }
   ],
   "source": [
    "haskey(salaries, \"Tom\")"
   ]
  },
  {
   "cell_type": "code",
   "execution_count": 76,
   "metadata": {},
   "outputs": [
    {
     "data": {
      "text/plain": [
       "false"
      ]
     },
     "execution_count": 76,
     "metadata": {},
     "output_type": "execute_result"
    }
   ],
   "source": [
    "haskey(salaries, \"Jane\")"
   ]
  },
  {
   "cell_type": "code",
   "execution_count": 77,
   "metadata": {},
   "outputs": [
    {
     "data": {
      "text/plain": [
       "135000.0"
      ]
     },
     "execution_count": 77,
     "metadata": {},
     "output_type": "execute_result"
    }
   ],
   "source": [
    "get!(salaries, \"Jane\", 135_000.0)"
   ]
  },
  {
   "cell_type": "code",
   "execution_count": 78,
   "metadata": {},
   "outputs": [
    {
     "data": {
      "text/plain": [
       "42814.5"
      ]
     },
     "execution_count": 78,
     "metadata": {},
     "output_type": "execute_result"
    }
   ],
   "source": [
    "pop!(salaries, \"Bob\")"
   ]
  },
  {
   "cell_type": "code",
   "execution_count": 79,
   "metadata": {},
   "outputs": [
    {
     "data": {
      "text/plain": [
       "HashMap{String,Float64}(Array{Pair{String,Float64},1}[[\"Jane\" => 135000.0], []])"
      ]
     },
     "execution_count": 79,
     "metadata": {},
     "output_type": "execute_result"
    }
   ],
   "source": [
    "delete!(salaries, \"Tom\")"
   ]
  },
  {
   "cell_type": "code",
   "execution_count": 80,
   "metadata": {},
   "outputs": [
    {
     "data": {
      "text/plain": [
       "HashMap{String,Float64}(Array{Pair{String,Float64},1}[])"
      ]
     },
     "execution_count": 80,
     "metadata": {},
     "output_type": "execute_result"
    }
   ],
   "source": [
    "salaries = HashMap{String,Float64}()"
   ]
  },
  {
   "cell_type": "code",
   "execution_count": 81,
   "metadata": {},
   "outputs": [
    {
     "data": {
      "text/plain": [
       "23-element Array{String,1}:\n",
       " \"Anna\"   \n",
       " \"Andrew\" \n",
       " \"Ashton\" \n",
       " \"Alice\"  \n",
       " \"Armando\"\n",
       " \"Arnold\" \n",
       " \"Annie\"  \n",
       " \"Amanda\" \n",
       " \"Ashley\" \n",
       " \"Bob\"    \n",
       " \"Bill\"   \n",
       " \"Barney\" \n",
       " \"Charles\"\n",
       " \"Cherry\" \n",
       " \"Chris\"  \n",
       " \"Carmen\" \n",
       " \"Connor\" \n",
       " \"Dan\"    \n",
       " \"Daisy\"  \n",
       " \"Don\"    \n",
       " \"Eugene\" \n",
       " \"Emily\"  \n",
       " \"Eleanor\""
      ]
     },
     "execution_count": 81,
     "metadata": {},
     "output_type": "execute_result"
    }
   ],
   "source": [
    "names = [\"Anna\", \"Andrew\", \"Ashton\", \"Alice\", \"Armando\", \"Arnold\", \"Annie\", \"Amanda\", \"Ashley\", \"Bob\", \"Bill\", \"Barney\", \"Charles\", \"Cherry\", \"Chris\", \"Carmen\", \"Connor\", \"Dan\", \"Daisy\", \"Don\", \"Eugene\", \"Emily\", \"Eleanor\"]"
   ]
  },
  {
   "cell_type": "code",
   "execution_count": 82,
   "metadata": {},
   "outputs": [
    {
     "name": "stdout",
     "output_type": "stream",
     "text": [
      "Load factor: 1.0\n",
      "Number of buckets: 1\n",
      "Load factor: 1.0\n",
      "Number of buckets: 2\n",
      "Load factor: 1.5\n",
      "Number of buckets: 2\n",
      "Load factor: 1.0\n",
      "Number of buckets: 4\n",
      "Load factor: 1.25\n",
      "Number of buckets: 4\n",
      "Load factor: 1.5\n",
      "Number of buckets: 4\n",
      "Load factor: 0.875\n",
      "Number of buckets: 8\n",
      "Load factor: 1.0\n",
      "Number of buckets: 8\n",
      "Load factor: 1.125\n",
      "Number of buckets: 8\n",
      "Load factor: 1.25\n",
      "Number of buckets: 8\n",
      "Load factor: 1.375\n",
      "Number of buckets: 8\n",
      "Load factor: 1.5\n",
      "Number of buckets: 8\n",
      "Load factor: 0.8125\n",
      "Number of buckets: 16\n",
      "Load factor: 0.875\n",
      "Number of buckets: 16\n",
      "Load factor: 0.9375\n",
      "Number of buckets: 16\n",
      "Load factor: 1.0\n",
      "Number of buckets: 16\n",
      "Load factor: 1.0625\n",
      "Number of buckets: 16\n",
      "Load factor: 1.125\n",
      "Number of buckets: 16\n",
      "Load factor: 1.1875\n",
      "Number of buckets: 16\n",
      "Load factor: 1.25\n",
      "Number of buckets: 16\n",
      "Load factor: 1.3125\n",
      "Number of buckets: 16\n",
      "Load factor: 1.375\n",
      "Number of buckets: 16\n",
      "Load factor: 1.4375\n",
      "Number of buckets: 16\n"
     ]
    }
   ],
   "source": [
    "for name in names \n",
    "   salaries[name] = Float64(rand(15_000:250_000)) \n",
    "\n",
    "   println(\"Load factor: $(loadfactor(salaries))\") \n",
    "   println(\"Number of buckets: $(length(salaries))\") \n",
    "end"
   ]
  },
  {
   "cell_type": "code",
   "execution_count": 83,
   "metadata": {},
   "outputs": [
    {
     "name": "stdout",
     "output_type": "stream",
     "text": [
      "Load factor: 1.375\n",
      "Number of buckets: 16\n",
      "Load factor: 1.3125\n",
      "Number of buckets: 16\n",
      "Load factor: 1.25\n",
      "Number of buckets: 16\n",
      "Load factor: 1.1875\n",
      "Number of buckets: 16\n",
      "Load factor: 1.125\n",
      "Number of buckets: 16\n",
      "Load factor: 1.0625\n",
      "Number of buckets: 16\n",
      "Load factor: 1.0\n",
      "Number of buckets: 16\n",
      "Load factor: 0.9375\n",
      "Number of buckets: 16\n",
      "Load factor: 0.875\n",
      "Number of buckets: 16\n",
      "Load factor: 0.8125\n",
      "Number of buckets: 16\n",
      "Load factor: 0.75\n",
      "Number of buckets: 16\n",
      "Load factor: 0.6875\n",
      "Number of buckets: 16\n",
      "Load factor: 0.625\n",
      "Number of buckets: 16\n",
      "Load factor: 0.5625\n",
      "Number of buckets: 16\n",
      "Load factor: 0.5\n",
      "Number of buckets: 16\n",
      "Load factor: 0.875\n",
      "Number of buckets: 8\n",
      "Load factor: 0.75\n",
      "Number of buckets: 8\n",
      "Load factor: 0.625\n",
      "Number of buckets: 8\n",
      "Load factor: 0.5\n",
      "Number of buckets: 8\n",
      "Load factor: 0.75\n",
      "Number of buckets: 4\n",
      "Load factor: 0.5\n",
      "Number of buckets: 4\n",
      "Load factor: 0.5\n",
      "Number of buckets: 2\n",
      "Load factor: 0.0\n",
      "Number of buckets: 1\n"
     ]
    }
   ],
   "source": [
    "for name in names \n",
    "   delete!(salaries, name) \n",
    "\n",
    "   println(\"Load factor: $(loadfactor(salaries))\") \n",
    "   println(\"Number of buckets: $(length(salaries))\") \n",
    "end "
   ]
  },
  {
   "cell_type": "markdown",
   "metadata": {},
   "source": [
    "## Ordered dictionaries"
   ]
  },
  {
   "cell_type": "code",
   "execution_count": 87,
   "metadata": {},
   "outputs": [
    {
     "name": "stdout",
     "output_type": "stream",
     "text": [
      "\u001b[32m\u001b[1m  Updating\u001b[22m\u001b[39m registry at `~/.julia/registries/General`\n",
      "\u001b[32m\u001b[1m  Updating\u001b[22m\u001b[39m git-repo `https://github.com/JuliaRegistries/General.git`\n",
      "\u001b[2K\u001b[?25h\u001b[32m\u001b[1m Resolving\u001b[22m\u001b[39m package versions...\n",
      "\u001b[32m\u001b[1m  Updating\u001b[22m\u001b[39m `~/Dropbox/Projects/Julia Data Structures/Chapter 5/support_files/Project.toml`\n",
      " \u001b[90m [864edb3b]\u001b[39m\u001b[92m + DataStructures v0.17.5\u001b[39m\n",
      "\u001b[32m\u001b[1m  Updating\u001b[22m\u001b[39m `~/Dropbox/Projects/Julia Data Structures/Chapter 5/support_files/Manifest.toml`\n",
      " \u001b[90m [864edb3b]\u001b[39m\u001b[92m + DataStructures v0.17.5\u001b[39m\n",
      " \u001b[90m [bac558e1]\u001b[39m\u001b[92m + OrderedCollections v1.1.0\u001b[39m\n"
     ]
    }
   ],
   "source": [
    "using Pkg\n",
    "pkg\"add DataStructures\""
   ]
  },
  {
   "cell_type": "code",
   "execution_count": 88,
   "metadata": {},
   "outputs": [],
   "source": [
    "using DataStructures"
   ]
  },
  {
   "cell_type": "code",
   "execution_count": 89,
   "metadata": {},
   "outputs": [
    {
     "data": {
      "text/plain": [
       "OrderedDict{String,Float64} with 0 entries"
      ]
     },
     "execution_count": 89,
     "metadata": {},
     "output_type": "execute_result"
    }
   ],
   "source": [
    "od = OrderedDict{String,Float64}()"
   ]
  },
  {
   "cell_type": "code",
   "execution_count": 90,
   "metadata": {},
   "outputs": [
    {
     "data": {
      "text/plain": [
       "52725.15"
      ]
     },
     "execution_count": 90,
     "metadata": {},
     "output_type": "execute_result"
    }
   ],
   "source": [
    "od[\"Bob\"] = 52_725.15"
   ]
  },
  {
   "cell_type": "code",
   "execution_count": 91,
   "metadata": {},
   "outputs": [
    {
     "data": {
      "text/plain": [
       "90200.0"
      ]
     },
     "execution_count": 91,
     "metadata": {},
     "output_type": "execute_result"
    }
   ],
   "source": [
    "od[\"Sarah\"] = 90_200."
   ]
  },
  {
   "cell_type": "code",
   "execution_count": 92,
   "metadata": {},
   "outputs": [
    {
     "data": {
      "text/plain": [
       "34016.5"
      ]
     },
     "execution_count": 92,
     "metadata": {},
     "output_type": "execute_result"
    }
   ],
   "source": [
    "34_016.5"
   ]
  },
  {
   "cell_type": "code",
   "execution_count": 93,
   "metadata": {},
   "outputs": [
    {
     "data": {
      "text/plain": [
       "OrderedDict{String,Float64} with 2 entries:\n",
       "  \"Bob\"   => 52725.2\n",
       "  \"Sarah\" => 90200.0"
      ]
     },
     "execution_count": 93,
     "metadata": {},
     "output_type": "execute_result"
    }
   ],
   "source": [
    "od"
   ]
  },
  {
   "cell_type": "code",
   "execution_count": null,
   "metadata": {},
   "outputs": [],
   "source": []
  }
 ],
 "metadata": {
  "kernelspec": {
   "display_name": "Julia 1.2.0",
   "language": "julia",
   "name": "julia-1.2"
  },
  "language_info": {
   "file_extension": ".jl",
   "mimetype": "application/julia",
   "name": "julia",
   "version": "1.2.0"
  }
 },
 "nbformat": 4,
 "nbformat_minor": 2
}
